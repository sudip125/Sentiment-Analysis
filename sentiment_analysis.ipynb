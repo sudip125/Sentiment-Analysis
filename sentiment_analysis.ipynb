{
 "cells": [
  {
   "cell_type": "code",
   "execution_count": 1,
   "id": "6ed76420",
   "metadata": {},
   "outputs": [],
   "source": [
    "# Required libraries\n",
    "import pandas as pd\n",
    "import numpy as np\n",
    "\n",
    "# nltk libraries required\n",
    "import nltk\n",
    "from nltk.stem.porter import PorterStemmer\n",
    "from nltk.corpus import stopwords\n",
    "from nltk.stem import WordNetLemmatizer\n",
    "\n",
    "# Models Building\n",
    "from sklearn.feature_extraction.text import CountVectorizer\n",
    "from sklearn.model_selection import train_test_split\n",
    "from sklearn.naive_bayes import MultinomialNB,BernoulliNB"
   ]
  },
  {
   "cell_type": "markdown",
   "id": "0416f1f2",
   "metadata": {},
   "source": [
    "# Datasets Loadings"
   ]
  },
  {
   "cell_type": "code",
   "execution_count": 2,
   "id": "645bf853",
   "metadata": {},
   "outputs": [],
   "source": [
    "df = pd.read_csv('IMDB Dataset.csv')"
   ]
  },
  {
   "cell_type": "code",
   "execution_count": 3,
   "id": "13c9cc5c",
   "metadata": {},
   "outputs": [
    {
     "data": {
      "text/html": [
       "<div>\n",
       "<style scoped>\n",
       "    .dataframe tbody tr th:only-of-type {\n",
       "        vertical-align: middle;\n",
       "    }\n",
       "\n",
       "    .dataframe tbody tr th {\n",
       "        vertical-align: top;\n",
       "    }\n",
       "\n",
       "    .dataframe thead th {\n",
       "        text-align: right;\n",
       "    }\n",
       "</style>\n",
       "<table border=\"1\" class=\"dataframe\">\n",
       "  <thead>\n",
       "    <tr style=\"text-align: right;\">\n",
       "      <th></th>\n",
       "      <th>review</th>\n",
       "      <th>sentiment</th>\n",
       "    </tr>\n",
       "  </thead>\n",
       "  <tbody>\n",
       "    <tr>\n",
       "      <th>0</th>\n",
       "      <td>One of the other reviewers has mentioned that ...</td>\n",
       "      <td>positive</td>\n",
       "    </tr>\n",
       "    <tr>\n",
       "      <th>1</th>\n",
       "      <td>A wonderful little production. &lt;br /&gt;&lt;br /&gt;The...</td>\n",
       "      <td>positive</td>\n",
       "    </tr>\n",
       "    <tr>\n",
       "      <th>2</th>\n",
       "      <td>I thought this was a wonderful way to spend ti...</td>\n",
       "      <td>positive</td>\n",
       "    </tr>\n",
       "    <tr>\n",
       "      <th>3</th>\n",
       "      <td>Basically there's a family where a little boy ...</td>\n",
       "      <td>negative</td>\n",
       "    </tr>\n",
       "    <tr>\n",
       "      <th>4</th>\n",
       "      <td>Petter Mattei's \"Love in the Time of Money\" is...</td>\n",
       "      <td>positive</td>\n",
       "    </tr>\n",
       "  </tbody>\n",
       "</table>\n",
       "</div>"
      ],
      "text/plain": [
       "                                              review sentiment\n",
       "0  One of the other reviewers has mentioned that ...  positive\n",
       "1  A wonderful little production. <br /><br />The...  positive\n",
       "2  I thought this was a wonderful way to spend ti...  positive\n",
       "3  Basically there's a family where a little boy ...  negative\n",
       "4  Petter Mattei's \"Love in the Time of Money\" is...  positive"
      ]
     },
     "execution_count": 3,
     "metadata": {},
     "output_type": "execute_result"
    }
   ],
   "source": [
    "df.head()"
   ]
  },
  {
   "cell_type": "code",
   "execution_count": 3,
   "id": "6358def3",
   "metadata": {},
   "outputs": [
    {
     "data": {
      "text/plain": [
       "(50000, 2)"
      ]
     },
     "execution_count": 3,
     "metadata": {},
     "output_type": "execute_result"
    }
   ],
   "source": [
    "# shape\n",
    "df.shape"
   ]
  },
  {
   "cell_type": "markdown",
   "id": "fa6618c2",
   "metadata": {},
   "source": [
    "### Full reviews of one "
   ]
  },
  {
   "cell_type": "code",
   "execution_count": 4,
   "id": "01a67000",
   "metadata": {},
   "outputs": [
    {
     "data": {
      "text/plain": [
       "\"One of the other reviewers has mentioned that after watching just 1 Oz episode you'll be hooked. They are right, as this is exactly what happened with me.<br /><br />The first thing that struck me about Oz was its brutality and unflinching scenes of violence, which set in right from the word GO. Trust me, this is not a show for the faint hearted or timid. This show pulls no punches with regards to drugs, sex or violence. Its is hardcore, in the classic use of the word.<br /><br />It is called OZ as that is the nickname given to the Oswald Maximum Security State Penitentary. It focuses mainly on Emerald City, an experimental section of the prison where all the cells have glass fronts and face inwards, so privacy is not high on the agenda. Em City is home to many..Aryans, Muslims, gangstas, Latinos, Christians, Italians, Irish and more....so scuffles, death stares, dodgy dealings and shady agreements are never far away.<br /><br />I would say the main appeal of the show is due to the fact that it goes where other shows wouldn't dare. Forget pretty pictures painted for mainstream audiences, forget charm, forget romance...OZ doesn't mess around. The first episode I ever saw struck me as so nasty it was surreal, I couldn't say I was ready for it, but as I watched more, I developed a taste for Oz, and got accustomed to the high levels of graphic violence. Not just violence, but injustice (crooked guards who'll be sold out for a nickel, inmates who'll kill on order and get away with it, well mannered, middle class inmates being turned into prison bitches due to their lack of street skills or prison experience) Watching Oz, you may become comfortable with what is uncomfortable viewing....thats if you can get in touch with your darker side.\""
      ]
     },
     "execution_count": 4,
     "metadata": {},
     "output_type": "execute_result"
    }
   ],
   "source": [
    "df['review'].iloc[0]"
   ]
  },
  {
   "cell_type": "markdown",
   "id": "8e53ac2f",
   "metadata": {},
   "source": [
    "<h4>Above reviews observations:</h4> \n",
    "    \n",
    "    \n",
    "1. There are <html> tags, we should remove them.\n",
    "2. There are special characters, we should remove them.\n",
    "3. There are stopwords, we should remove them.\n",
    "4. We should convert them all into lowercase."
   ]
  },
  {
   "cell_type": "markdown",
   "id": "0c2ed8d4",
   "metadata": {},
   "source": [
    "### Removing html tags"
   ]
  },
  {
   "cell_type": "code",
   "execution_count": 5,
   "id": "0790a33e",
   "metadata": {},
   "outputs": [],
   "source": [
    "import re\n",
    "\n",
    "def remove_tags(txt):\n",
    "    remove_tag = re.compile('<.*?>')\n",
    "    return re.sub(remove_tag,'',txt)"
   ]
  },
  {
   "cell_type": "code",
   "execution_count": 6,
   "id": "6d0fba55",
   "metadata": {},
   "outputs": [],
   "source": [
    "df['review'] = df['review'].apply(remove_tags)"
   ]
  },
  {
   "cell_type": "markdown",
   "id": "3691b6f9",
   "metadata": {},
   "source": [
    "#### Converting Lowercase"
   ]
  },
  {
   "cell_type": "code",
   "execution_count": 7,
   "id": "be99345e",
   "metadata": {},
   "outputs": [],
   "source": [
    "def convert_lower(txt):\n",
    "    return txt.lower()"
   ]
  },
  {
   "cell_type": "code",
   "execution_count": 8,
   "id": "a1ecc623",
   "metadata": {},
   "outputs": [],
   "source": [
    "df['review'] = df['review'].apply(convert_lower)"
   ]
  },
  {
   "cell_type": "markdown",
   "id": "e07adc14",
   "metadata": {},
   "source": [
    "#### Removing Special Characters "
   ]
  },
  {
   "cell_type": "code",
   "execution_count": 9,
   "id": "5a63c843",
   "metadata": {},
   "outputs": [],
   "source": [
    "def replace_non_characters_with_space(txt):\n",
    "    replace_list = [sen if sen.isalnum() else ' ' for sen in txt]\n",
    "    replace_str = ''.join(replace_list)\n",
    "    return replace_str"
   ]
  },
  {
   "cell_type": "code",
   "execution_count": 10,
   "id": "24a5cec7",
   "metadata": {},
   "outputs": [],
   "source": [
    "df['review'] = df['review'].apply(replace_non_characters_with_space)"
   ]
  },
  {
   "cell_type": "markdown",
   "id": "42f2bec9",
   "metadata": {},
   "source": [
    "#### Removing Stop words"
   ]
  },
  {
   "cell_type": "code",
   "execution_count": 11,
   "id": "8ba18d4c",
   "metadata": {},
   "outputs": [
    {
     "name": "stderr",
     "output_type": "stream",
     "text": [
      "[nltk_data] Downloading package stopwords to\n",
      "[nltk_data]     C:\\Users\\bohar\\AppData\\Roaming\\nltk_data...\n",
      "[nltk_data]   Package stopwords is already up-to-date!\n"
     ]
    },
    {
     "data": {
      "text/plain": [
       "True"
      ]
     },
     "execution_count": 11,
     "metadata": {},
     "output_type": "execute_result"
    }
   ],
   "source": [
    "# Download stop_words by following code:\n",
    "nltk.download('stopwords')"
   ]
  },
  {
   "cell_type": "code",
   "execution_count": 12,
   "id": "628c0319",
   "metadata": {},
   "outputs": [],
   "source": [
    "stop_words = stopwords.words('english')"
   ]
  },
  {
   "cell_type": "code",
   "execution_count": 13,
   "id": "b5112428",
   "metadata": {},
   "outputs": [],
   "source": [
    "# Remove below list words from stop_words becaue they in our model so we need this world\n",
    "l=['not','no','but']\n",
    "for word in stop_words:\n",
    "    if word in l:\n",
    "        stop_words.remove(word)\n"
   ]
  },
  {
   "cell_type": "code",
   "execution_count": 14,
   "id": "4edf9934",
   "metadata": {
    "scrolled": true
   },
   "outputs": [],
   "source": [
    "def remove_stop_words(txt):\n",
    "    with_out_stop_list = [a for a in txt.split() if a not in stop_words]\n",
    "    return with_out_stop_list"
   ]
  },
  {
   "cell_type": "code",
   "execution_count": 15,
   "id": "83eab59c",
   "metadata": {},
   "outputs": [],
   "source": [
    "df['review'] = df['review'].apply(remove_stop_words)"
   ]
  },
  {
   "cell_type": "markdown",
   "id": "791eee90",
   "metadata": {},
   "source": [
    "### Streaming"
   ]
  },
  {
   "cell_type": "code",
   "execution_count": 17,
   "id": "da16fcb6",
   "metadata": {},
   "outputs": [],
   "source": [
    "# from nltk.stem.porter import PorterStemmer\n",
    "ps = PorterStemmer()"
   ]
  },
  {
   "cell_type": "code",
   "execution_count": 18,
   "id": "0395a169",
   "metadata": {},
   "outputs": [],
   "source": [
    "def streaming(txt):\n",
    "    steam_word_list = [ps.stem(i) for i in txt ]\n",
    "    string_with_streaming = ' '.join(steam_word_list)\n",
    "    return string_with_streaming"
   ]
  },
  {
   "cell_type": "code",
   "execution_count": 19,
   "id": "45ecf757",
   "metadata": {},
   "outputs": [],
   "source": [
    "df['review'] = df['review'].apply(streaming)"
   ]
  },
  {
   "cell_type": "code",
   "execution_count": 20,
   "id": "0cc2efe3",
   "metadata": {},
   "outputs": [
    {
     "data": {
      "text/plain": [
       "0        one review mention watch 1 oz episod hook righ...\n",
       "1        wonder littl product film techniqu unassum old...\n",
       "2        thought wonder way spend time hot summer weeke...\n",
       "3        basic famili littl boy jake think zombi closet...\n",
       "4        petter mattei love time money visual stun film...\n",
       "                               ...                        \n",
       "49995    thought movi right good job creativ origin fir...\n",
       "49996    bad plot bad dialogu bad act idiot direct anno...\n",
       "49997    cathol taught parochi elementari school nun ta...\n",
       "49998    go disagre previou comment side maltin one sec...\n",
       "49999    no one expect star trek movi high art but fan ...\n",
       "Name: review, Length: 50000, dtype: object"
      ]
     },
     "execution_count": 20,
     "metadata": {},
     "output_type": "execute_result"
    }
   ],
   "source": [
    "df['review']"
   ]
  },
  {
   "cell_type": "markdown",
   "id": "4e4031b0",
   "metadata": {},
   "source": [
    "### CountVectorizer"
   ]
  },
  {
   "cell_type": "code",
   "execution_count": 21,
   "id": "444f6f8b",
   "metadata": {},
   "outputs": [],
   "source": [
    "# from sklearn.feature_extraction.text import CountVectorizer\n",
    "cv = CountVectorizer(max_features=18000) #10000,15000"
   ]
  },
  {
   "cell_type": "code",
   "execution_count": 22,
   "id": "adda01fb",
   "metadata": {},
   "outputs": [],
   "source": [
    "X = cv.fit_transform(df['review']).toarray()"
   ]
  },
  {
   "cell_type": "markdown",
   "id": "fbd834bd",
   "metadata": {},
   "source": [
    "### LabelEncoder "
   ]
  },
  {
   "cell_type": "code",
   "execution_count": 23,
   "id": "4efc50cb",
   "metadata": {},
   "outputs": [],
   "source": [
    "from sklearn.preprocessing import LabelEncoder\n",
    "lb = LabelEncoder()"
   ]
  },
  {
   "cell_type": "code",
   "execution_count": 24,
   "id": "997bb785",
   "metadata": {},
   "outputs": [],
   "source": [
    "y = lb.fit_transform(df['sentiment'])"
   ]
  },
  {
   "cell_type": "markdown",
   "id": "e735277e",
   "metadata": {},
   "source": [
    "### Spliting of Datasets"
   ]
  },
  {
   "cell_type": "code",
   "execution_count": 25,
   "id": "abab305e",
   "metadata": {},
   "outputs": [],
   "source": [
    "# from sklearn.model_selection import train_test_split\n",
    "X_train, X_test, y_train, y_test = train_test_split(X, y, test_size=0.2, random_state=32)"
   ]
  },
  {
   "cell_type": "markdown",
   "id": "c87b3910",
   "metadata": {},
   "source": [
    "### Model building"
   ]
  },
  {
   "cell_type": "code",
   "execution_count": 26,
   "id": "bbb2840c",
   "metadata": {},
   "outputs": [
    {
     "data": {
      "text/plain": [
       "BernoulliNB(alpha=0.1)"
      ]
     },
     "execution_count": 26,
     "metadata": {},
     "output_type": "execute_result"
    }
   ],
   "source": [
    "bb = BernoulliNB(alpha=0.1,binarize=0.0)\n",
    "bb.fit(X_test, y_test)"
   ]
  },
  {
   "cell_type": "code",
   "execution_count": 27,
   "id": "23bddea0",
   "metadata": {},
   "outputs": [
    {
     "name": "stdout",
     "output_type": "stream",
     "text": [
      "Accuracy: 0.9206\n"
     ]
    }
   ],
   "source": [
    "print('Accuracy:',bb.score(X_test, y_test))"
   ]
  },
  {
   "cell_type": "code",
   "execution_count": null,
   "id": "d55b26c4",
   "metadata": {},
   "outputs": [],
   "source": [
    "import pickle\n",
    "pickle.dump(bb,open('nlp_model.pkl','wb'))\n",
    "pickle.dump(cv,open('transform.pkl','wb'))\n"
   ]
  },
  {
   "cell_type": "code",
   "execution_count": 28,
   "id": "ad01243b",
   "metadata": {},
   "outputs": [],
   "source": [
    "# Testing a reviws how does it work \n",
    "review =cv.transform([\"Disappointing!!! Is one word i can say about the movie. Nothing makes you feel wow about the movie. It feels like every scene you have seen it somewhere in some movie or series, i think Bollywood should understand that it is not 90s crowd which watched their films blindly, today everyone has access to international and regional content at their finger tips. Please don't waste you hard earned money on this movie. Nothing against SRK but the movie is not good sorry. Deepika looks ok, it feels she is sick in some scenes not sure but it appears she is not fresh 😁. Jhon abraham is good. Overall the movie is a big disappointment is what one can say. In the times of movies like kantara and RRR this is too out dated and average.\"]).toarray()"
   ]
  },
  {
   "cell_type": "code",
   "execution_count": 29,
   "id": "b117a82f",
   "metadata": {},
   "outputs": [
    {
     "data": {
      "text/plain": [
       "array([0])"
      ]
     },
     "execution_count": 29,
     "metadata": {},
     "output_type": "execute_result"
    }
   ],
   "source": [
    "bb.predict(review)"
   ]
  },
  {
   "cell_type": "code",
   "execution_count": null,
   "id": "6c087a62",
   "metadata": {},
   "outputs": [],
   "source": []
  },
  {
   "cell_type": "code",
   "execution_count": null,
   "id": "33997ba4",
   "metadata": {},
   "outputs": [],
   "source": []
  }
 ],
 "metadata": {
  "kernelspec": {
   "display_name": "Python 3 (ipykernel)",
   "language": "python",
   "name": "python3"
  },
  "language_info": {
   "codemirror_mode": {
    "name": "ipython",
    "version": 3
   },
   "file_extension": ".py",
   "mimetype": "text/x-python",
   "name": "python",
   "nbconvert_exporter": "python",
   "pygments_lexer": "ipython3",
   "version": "3.9.13"
  }
 },
 "nbformat": 4,
 "nbformat_minor": 5
}
